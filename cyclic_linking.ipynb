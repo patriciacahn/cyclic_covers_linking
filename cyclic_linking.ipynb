{
 "cells": [
  {
   "cell_type": "code",
   "execution_count": 220,
   "id": "28263fc2",
   "metadata": {},
   "outputs": [],
   "source": [
    "load('./cyclic_linking_numbers.sage')"
   ]
  },
  {
   "cell_type": "code",
   "execution_count": 221,
   "id": "a72426b8",
   "metadata": {},
   "outputs": [],
   "source": [
    "#First goodnotes example\n",
    "\n",
    "# knot=Link_Component(3,[-1,1,-1,-1,1],[[0,3],[2,1],[0,0],[0,1],[1,1]])\n",
    "# print(knot.signs)\n",
    "# print(knot.overstrands)\n",
    "# pb_1=Link_Component(3,[-1,1,1],[[0,2],[0,1],[0,3]])\n",
    "# print(pb_1.signs)\n",
    "# print(pb_1.overstrands)\n",
    "# pb_2=Link_Component(3,[-1,1,1],[[1,0],[1,1],[0,2]])\n",
    "# print(pb_2.signs)\n",
    "# print(pb_2.overstrands)\n",
    "\n",
    "\n",
    "#Second goodnotes example with 3 closed lifts per pb curve\n",
    "knot=Link_Component(3,[1,1,1,1,1,1,1,1,1,1,1,1],[[2,0],[1,0],[0,6],[2,0],[1,0],[0,2],[2,1],[1,0],[0,2],[0,6],[0,10],[0,11]])\n",
    "pb_1=Link_Component(3,[1,1,1],[[0,7],[0,4],[0,1]])\n",
    "pb_2=Link_Component(3,[-1,1,1,-1,1],[[2,2],[0,6],[0,4],[2,0],[0,0]])\n",
    "\n",
    "diagram=Link_Diagram(3,0)\n",
    "diagram.add_component(knot)\n",
    "diagram.add_component(pb_1)\n",
    "diagram.add_component(pb_2)\n",
    "\n",
    "\n",
    "\n"
   ]
  },
  {
   "cell_type": "code",
   "execution_count": 222,
   "id": "2fdaa26e",
   "metadata": {},
   "outputs": [],
   "source": [
    "cover=Cyclic_Cover(3,diagram)"
   ]
  },
  {
   "cell_type": "code",
   "execution_count": 223,
   "id": "6cb0f033",
   "metadata": {},
   "outputs": [
    {
     "name": "stdout",
     "output_type": "stream",
     "text": [
      "[(), (), (), (1,2,3), (1,2,3), (1,2,3), (1,3,2), (1,3,2), (1,3,2), (), (1,2,3), (1,3,2), ()]\n",
      "[(), (1,2,3), (1,3,2), ()]\n",
      "[(), (), (1,2,3), (1,3,2), (1,3,2), ()]\n"
     ]
    }
   ],
   "source": [
    "print(cover.three_cell_list(0))\n",
    "print(cover.three_cell_list(1))\n",
    "print(cover.three_cell_list(2))"
   ]
  },
  {
   "cell_type": "code",
   "execution_count": 224,
   "id": "3b060759",
   "metadata": {},
   "outputs": [
    {
     "data": {
      "text/plain": [
       "(0, 0, 0, 0, 0, 0, -1, 0, 1, -1/2, 1/2, 0, -1/2, 1/2, 0, -1/2, 3/2, -1, 1/2, -1/2, 0, 1/2, -1/2, 0, 3/2, -3/2, 0, -1/2, -1/2, 1, 0, 0, 0, 0, 0, 0)"
      ]
     },
     "execution_count": 224,
     "metadata": {},
     "output_type": "execute_result"
    }
   ],
   "source": [
    "cover.two_chain(1,1)"
   ]
  },
  {
   "cell_type": "code",
   "execution_count": 225,
   "id": "1b2040eb",
   "metadata": {},
   "outputs": [
    {
     "data": {
      "text/plain": [
       "(0, 0, 0, 0, 0, 0, 1, -1, 0, 0, -1/2, 1/2, 0, -1/2, 1/2, -1, -1/2, 3/2, 0, 1/2, -1/2, 0, 1/2, -1/2, 0, 3/2, -3/2, 1, -1/2, -1/2, 0, 0, 0, 0, 0, 0)"
      ]
     },
     "execution_count": 225,
     "metadata": {},
     "output_type": "execute_result"
    }
   ],
   "source": [
    "cover.two_chain(1,2)"
   ]
  },
  {
   "cell_type": "code",
   "execution_count": 226,
   "id": "2de702a4",
   "metadata": {},
   "outputs": [
    {
     "data": {
      "text/plain": [
       "(0, 0, 0, 0, 0, 0, 0, 1, -1, 1/2, 0, -1/2, 1/2, 0, -1/2, 3/2, -1, -1/2, -1/2, 0, 1/2, -1/2, 0, 1/2, -3/2, 0, 3/2, -1/2, 1, -1/2, 0, 0, 0, 0, 0, 0)"
      ]
     },
     "execution_count": 226,
     "metadata": {},
     "output_type": "execute_result"
    }
   ],
   "source": [
    "cover.two_chain(1,3)"
   ]
  },
  {
   "cell_type": "code",
   "execution_count": 227,
   "id": "3aca9bf0",
   "metadata": {},
   "outputs": [
    {
     "data": {
      "text/plain": [
       "(0, 0, 0, -1, 0, 1, -1, 0, 1, -1/2, 1/2, 0, -1/2, 3/2, -1, -1/2, 3/2, -1, 1/2, -1/2, 0, 3/2, -3/2, 0, 3/2, -3/2, 0, -1/2, -1/2, 1, 0, 0, 0, 0, 0, 0)"
      ]
     },
     "execution_count": 227,
     "metadata": {},
     "output_type": "execute_result"
    }
   ],
   "source": [
    "cover.two_chain(2,1)"
   ]
  },
  {
   "cell_type": "code",
   "execution_count": 228,
   "id": "aea9859c",
   "metadata": {},
   "outputs": [
    {
     "data": {
      "text/plain": [
       "(0, 0, 0, 1, -1, 0, 1, -1, 0, 0, -1/2, 1/2, -1, -1/2, 3/2, -1, -1/2, 3/2, 0, 1/2, -1/2, 0, 3/2, -3/2, 0, 3/2, -3/2, 1, -1/2, -1/2, 0, 0, 0, 0, 0, 0)"
      ]
     },
     "execution_count": 228,
     "metadata": {},
     "output_type": "execute_result"
    }
   ],
   "source": [
    "cover.two_chain(2,2)"
   ]
  },
  {
   "cell_type": "code",
   "execution_count": 229,
   "id": "bb87fab9",
   "metadata": {},
   "outputs": [
    {
     "data": {
      "text/plain": [
       "(0, 0, 0, 0, 1, -1, 0, 1, -1, 1/2, 0, -1/2, 3/2, -1, -1/2, 3/2, -1, -1/2, -1/2, 0, 1/2, -3/2, 0, 3/2, -3/2, 0, 3/2, -1/2, 1, -1/2, 0, 0, 0, 0, 0, 0)"
      ]
     },
     "execution_count": 229,
     "metadata": {},
     "output_type": "execute_result"
    }
   ],
   "source": [
    "cover.two_chain(2,3)"
   ]
  },
  {
   "cell_type": "code",
   "execution_count": 230,
   "id": "b6398b89",
   "metadata": {},
   "outputs": [
    {
     "name": "stdout",
     "output_type": "stream",
     "text": [
      "linking of pb 1 lift 1 with pb 1 lift 3\n",
      "1/2\n",
      "linking of pb 1 lift 3 with pb 1 lift 1\n",
      "1/2\n",
      "linking of pb 1 lift 1 with pb 2 lift 1\n",
      "-1\n",
      "linking of pb 2 lift 1 with pb 1 lift 1\n",
      "-1\n",
      "linking of pb 1 lift 1 with pb 2 lift 3\n",
      "1/2\n",
      "linking of pb 2 lift 3 with pb 1 lift 1\n",
      "1/2\n",
      "linking of pb 1 lift 3 with pb 1 lift 1\n",
      "1/2\n",
      "linking of pb 1 lift 1 with pb 1 lift 3\n",
      "1/2\n",
      "linking of pb 1 lift 3 with pb 2 lift 1\n",
      "1/2\n",
      "linking of pb 2 lift 1 with pb 1 lift 3\n",
      "1/2\n",
      "linking of pb 1 lift 3 with pb 2 lift 3\n",
      "-1\n",
      "linking of pb 2 lift 3 with pb 1 lift 3\n",
      "-1\n",
      "linking of pb 2 lift 1 with pb 1 lift 1\n",
      "-1\n",
      "linking of pb 1 lift 1 with pb 2 lift 1\n",
      "-1\n",
      "linking of pb 2 lift 1 with pb 1 lift 3\n",
      "1/2\n",
      "linking of pb 1 lift 3 with pb 2 lift 1\n",
      "1/2\n",
      "linking of pb 2 lift 1 with pb 2 lift 3\n",
      "-1/2\n",
      "linking of pb 2 lift 3 with pb 2 lift 1\n",
      "-1/2\n",
      "linking of pb 2 lift 3 with pb 1 lift 1\n",
      "1/2\n",
      "linking of pb 1 lift 1 with pb 2 lift 3\n",
      "1/2\n",
      "linking of pb 2 lift 3 with pb 1 lift 3\n",
      "-1\n",
      "linking of pb 1 lift 3 with pb 2 lift 3\n",
      "-1\n",
      "linking of pb 2 lift 3 with pb 2 lift 1\n",
      "-1/2\n",
      "linking of pb 2 lift 1 with pb 2 lift 3\n",
      "-1/2\n"
     ]
    }
   ],
   "source": [
    "for i in [1,2]:\n",
    "    for j in [1,3]:\n",
    "        for k in [1,2]:\n",
    "            for l in [1,3]:\n",
    "                if [i,j]!=[k,l]:\n",
    "                    print(\"linking of pb\" , i, \"lift\", j, \"with pb\", k, \"lift\", l)\n",
    "                    print(cover.linking_number(i,j,k,l))\n",
    "                    print(\"linking of pb\" , k, \"lift\", l, \"with pb\", i, \"lift\", j)\n",
    "                    print(cover.linking_number(k,l,i,j))"
   ]
  },
  {
   "cell_type": "code",
   "execution_count": 231,
   "id": "dfab128d",
   "metadata": {},
   "outputs": [
    {
     "name": "stdout",
     "output_type": "stream",
     "text": [
      "linking of pb 1 lift 1 with pb 1 lift 3\n",
      "1/2\n",
      "linking of pb 1 lift 3 with pb 1 lift 1\n",
      "1/2\n",
      "linking of pb 1 lift 3 with pb 1 lift 1\n",
      "1/2\n",
      "linking of pb 1 lift 1 with pb 1 lift 3\n",
      "1/2\n",
      "linking of pb 2 lift 1 with pb 2 lift 3\n",
      "-1/2\n",
      "linking of pb 2 lift 3 with pb 2 lift 1\n",
      "-1/2\n",
      "linking of pb 2 lift 3 with pb 2 lift 1\n",
      "-1/2\n",
      "linking of pb 2 lift 1 with pb 2 lift 3\n",
      "-1/2\n"
     ]
    }
   ],
   "source": [
    "#Linking numbers of only lifts of pb 1 with each other and pb 2 with each other\n",
    "for i in [1,2]:\n",
    "    for j in [1,3]:\n",
    "        for k in [1,3]:\n",
    "                if j!=k:\n",
    "                    print(\"linking of pb\" , i, \"lift\", j, \"with pb\", i, \"lift\", k)\n",
    "                    print(cover.linking_number(i,j,i,k))\n",
    "                    print(\"linking of pb\" , i, \"lift\", k, \"with pb\", i, \"lift\", j)\n",
    "                    print(cover.linking_number(i,k,i,j))"
   ]
  },
  {
   "cell_type": "code",
   "execution_count": null,
   "id": "84e5b3fc",
   "metadata": {},
   "outputs": [],
   "source": []
  }
 ],
 "metadata": {
  "kernelspec": {
   "display_name": "SageMath 9.6",
   "language": "sage",
   "name": "sagemath-9.6"
  },
  "language_info": {
   "codemirror_mode": {
    "name": "ipython",
    "version": 3
   },
   "file_extension": ".py",
   "mimetype": "text/x-python",
   "name": "python",
   "nbconvert_exporter": "python",
   "pygments_lexer": "ipython3",
   "version": "3.10.3"
  }
 },
 "nbformat": 4,
 "nbformat_minor": 5
}
