{
 "cells": [
  {
   "cell_type": "code",
   "execution_count": 73,
   "id": "a052895b",
   "metadata": {},
   "outputs": [],
   "source": [
    "load('./cyclic_linking_numbers.sage')"
   ]
  },
  {
   "cell_type": "code",
   "execution_count": 74,
   "id": "66a45ac7",
   "metadata": {},
   "outputs": [],
   "source": [
    "#Winding number 0, standard eta\n",
    "knot=Link_Component(2,[-1,-1,1,-1,-1,1,1,-1,1,1],[[0,4],[0,3],[0,6],[0,1],[0,0],[1,1],[0,2],[1,1],[0,8],[0,9]])\n",
    "pb_1=Link_Component(2,[1,-1],[[0,6],[0,7]])\n",
    "diagram=Link_Diagram(2,0)\n",
    "diagram.add_component(knot)\n",
    "diagram.add_component(pb_1)\n"
   ]
  },
  {
   "cell_type": "code",
   "execution_count": 75,
   "id": "78bec2f5",
   "metadata": {},
   "outputs": [
    {
     "name": "stdout",
     "output_type": "stream",
     "text": [
      "[  0 1/7 1/7]\n",
      "[1/7   0 1/7]\n",
      "[1/7 1/7   0]\n"
     ]
    }
   ],
   "source": [
    "#Can use any p for winding number 0\n",
    "p=3\n",
    "cover=Cyclic_Cover(p,diagram)\n",
    "lk_matrix=Matrix(QQ,p)\n",
    "\n",
    "for i in range(p):\n",
    "    for j in range(p):\n",
    "         if i!=j:\n",
    "            lk_matrix[i,j]=cover.linking_number(1,i+1,1,j+1)\n",
    "print(lk_matrix)"
   ]
  },
  {
   "cell_type": "code",
   "execution_count": 76,
   "id": "af9d7f19",
   "metadata": {},
   "outputs": [],
   "source": [
    "#Winding number w=p*multiple family with w-twist region between P and eta\n",
    "def stevedore_eta_twist(p,multiple):\n",
    "    \n",
    "    w=p*multiple\n",
    "    \n",
    "\n",
    "    knot_signs=[-1,-1,1,-1,-1,1,1,-1]+w*[-1]+[1,1]\n",
    "    knot_overstrands=[[0,4],[0,3],[0,6],[0,1],[0,0],[1,1],[0,2],[1,1]]+[[1,2+i] for i in range(w)]+[[0,8+w],[0,9+w]]\n",
    "    knot=Link_Component(2,knot_signs,knot_overstrands)\n",
    "\n",
    "    pb_1_signs=[1]+w*[1]+[-1]\n",
    "    pb_1_overstrands=[[0,6]]+[[0,8+i] for i in range(w)]+[[0,7]]\n",
    "    pb_1=Link_Component(2,pb_1_signs,pb_1_overstrands)\n",
    "\n",
    "    diagram=Link_Diagram(2,0)\n",
    "    diagram.add_component(knot)\n",
    "    diagram.add_component(pb_1)\n",
    "\n",
    "\n",
    "    lk_matrix=Matrix(QQ,p)\n",
    "    cover=Cyclic_Cover(p,diagram)\n",
    "    for i in range(p):\n",
    "        for j in range(p):\n",
    "             if i!=j:\n",
    "                lk_matrix[i,j]=cover.linking_number(1,i+1,1,j+1)\n",
    "    return lk_matrix\n",
    "    "
   ]
  },
  {
   "cell_type": "code",
   "execution_count": 77,
   "id": "b33c565f",
   "metadata": {},
   "outputs": [
    {
     "name": "stdout",
     "output_type": "stream",
     "text": [
      "[  0 2/9]\n",
      "[2/9   0]\n",
      "\n",
      "[   0 -7/9]\n",
      "[-7/9    0]\n",
      "\n",
      "[    0 -16/9]\n",
      "[-16/9     0]\n",
      "\n",
      "[    0 -25/9]\n",
      "[-25/9     0]\n",
      "\n",
      "[    0 -34/9]\n",
      "[-34/9     0]\n",
      "\n"
     ]
    }
   ],
   "source": [
    "for m in range(5):\n",
    "    print(stevedore_eta_twist(2,m))\n",
    "    print()"
   ]
  },
  {
   "cell_type": "code",
   "execution_count": 78,
   "id": "f34a60e0",
   "metadata": {},
   "outputs": [
    {
     "name": "stdout",
     "output_type": "stream",
     "text": [
      "[  0 1/7 1/7]\n",
      "[1/7   0 1/7]\n",
      "[1/7 1/7   0]\n",
      "\n",
      "[   0 -6/7 -6/7]\n",
      "[-6/7    0 -6/7]\n",
      "[-6/7 -6/7    0]\n",
      "\n",
      "[    0 -13/7 -13/7]\n",
      "[-13/7     0 -13/7]\n",
      "[-13/7 -13/7     0]\n",
      "\n",
      "[    0 -20/7 -20/7]\n",
      "[-20/7     0 -20/7]\n",
      "[-20/7 -20/7     0]\n",
      "\n",
      "[    0 -27/7 -27/7]\n",
      "[-27/7     0 -27/7]\n",
      "[-27/7 -27/7     0]\n",
      "\n"
     ]
    }
   ],
   "source": [
    "for m in range(5):\n",
    "    print(stevedore_eta_twist(3,m))\n",
    "    print()"
   ]
  },
  {
   "cell_type": "code",
   "execution_count": 79,
   "id": "80dd10bf",
   "metadata": {},
   "outputs": [
    {
     "name": "stdout",
     "output_type": "stream",
     "text": [
      "[   0  1/9 4/45  1/9]\n",
      "[ 1/9    0  1/9 4/45]\n",
      "[4/45  1/9    0  1/9]\n",
      "[ 1/9 4/45  1/9    0]\n",
      "\n",
      "[     0   -8/9 -41/45   -8/9]\n",
      "[  -8/9      0   -8/9 -41/45]\n",
      "[-41/45   -8/9      0   -8/9]\n",
      "[  -8/9 -41/45   -8/9      0]\n",
      "\n",
      "[     0  -17/9 -86/45  -17/9]\n",
      "[ -17/9      0  -17/9 -86/45]\n",
      "[-86/45  -17/9      0  -17/9]\n",
      "[ -17/9 -86/45  -17/9      0]\n",
      "\n",
      "[      0   -26/9 -131/45   -26/9]\n",
      "[  -26/9       0   -26/9 -131/45]\n",
      "[-131/45   -26/9       0   -26/9]\n",
      "[  -26/9 -131/45   -26/9       0]\n",
      "\n",
      "[      0   -35/9 -176/45   -35/9]\n",
      "[  -35/9       0   -35/9 -176/45]\n",
      "[-176/45   -35/9       0   -35/9]\n",
      "[  -35/9 -176/45   -35/9       0]\n",
      "\n"
     ]
    }
   ],
   "source": [
    "for m in range(5):\n",
    "    print(stevedore_eta_twist(4,m))\n",
    "    print()"
   ]
  },
  {
   "cell_type": "code",
   "execution_count": 80,
   "id": "f38e9b04",
   "metadata": {},
   "outputs": [
    {
     "name": "stdout",
     "output_type": "stream",
     "text": [
      "[     0 17/189 10/189  8/189 10/189 17/189]\n",
      "[17/189      0 17/189 10/189  8/189 10/189]\n",
      "[10/189 17/189      0 17/189 10/189  8/189]\n",
      "[ 8/189 10/189 17/189      0 17/189 10/189]\n",
      "[10/189  8/189 10/189 17/189      0 17/189]\n",
      "[17/189 10/189  8/189 10/189 17/189      0]\n",
      "\n",
      "[       0 -172/189 -179/189 -181/189 -179/189 -172/189]\n",
      "[-172/189        0 -172/189 -179/189 -181/189 -179/189]\n",
      "[-179/189 -172/189        0 -172/189 -179/189 -181/189]\n",
      "[-181/189 -179/189 -172/189        0 -172/189 -179/189]\n",
      "[-179/189 -181/189 -179/189 -172/189        0 -172/189]\n",
      "[-172/189 -179/189 -181/189 -179/189 -172/189        0]\n",
      "\n",
      "[       0 -361/189 -368/189 -370/189 -368/189 -361/189]\n",
      "[-361/189        0 -361/189 -368/189 -370/189 -368/189]\n",
      "[-368/189 -361/189        0 -361/189 -368/189 -370/189]\n",
      "[-370/189 -368/189 -361/189        0 -361/189 -368/189]\n",
      "[-368/189 -370/189 -368/189 -361/189        0 -361/189]\n",
      "[-361/189 -368/189 -370/189 -368/189 -361/189        0]\n",
      "\n",
      "[       0 -550/189 -557/189 -559/189 -557/189 -550/189]\n",
      "[-550/189        0 -550/189 -557/189 -559/189 -557/189]\n",
      "[-557/189 -550/189        0 -550/189 -557/189 -559/189]\n",
      "[-559/189 -557/189 -550/189        0 -550/189 -557/189]\n",
      "[-557/189 -559/189 -557/189 -550/189        0 -550/189]\n",
      "[-550/189 -557/189 -559/189 -557/189 -550/189        0]\n",
      "\n",
      "[       0 -739/189 -746/189 -748/189 -746/189 -739/189]\n",
      "[-739/189        0 -739/189 -746/189 -748/189 -746/189]\n",
      "[-746/189 -739/189        0 -739/189 -746/189 -748/189]\n",
      "[-748/189 -746/189 -739/189        0 -739/189 -746/189]\n",
      "[-746/189 -748/189 -746/189 -739/189        0 -739/189]\n",
      "[-739/189 -746/189 -748/189 -746/189 -739/189        0]\n",
      "\n"
     ]
    }
   ],
   "source": [
    "for m in range(5):\n",
    "    print(stevedore_eta_twist(6,m))\n",
    "    print()"
   ]
  },
  {
   "cell_type": "code",
   "execution_count": null,
   "id": "0fc1124f",
   "metadata": {},
   "outputs": [],
   "source": []
  }
 ],
 "metadata": {
  "kernelspec": {
   "display_name": "SageMath 9.6",
   "language": "sage",
   "name": "sagemath-9.6"
  },
  "language_info": {
   "codemirror_mode": {
    "name": "ipython",
    "version": 3
   },
   "file_extension": ".py",
   "mimetype": "text/x-python",
   "name": "python",
   "nbconvert_exporter": "python",
   "pygments_lexer": "ipython3",
   "version": "3.10.3"
  }
 },
 "nbformat": 4,
 "nbformat_minor": 5
}
