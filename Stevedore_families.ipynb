{
 "cells": [
  {
   "cell_type": "code",
   "execution_count": 20,
   "id": "86bb59d6",
   "metadata": {},
   "outputs": [],
   "source": [
    "load('./cyclic_linking_numbers.sage')"
   ]
  },
  {
   "cell_type": "code",
   "execution_count": 21,
   "id": "fda3a1fd",
   "metadata": {},
   "outputs": [],
   "source": [
    "#Winding number 0, standard eta\n",
    "knot=Link_Component(2,[-1,-1,1,-1,-1,1,1,-1,1,1],[[0,4],[0,3],[0,6],[0,1],[0,0],[1,1],[0,2],[1,1],[0,8],[0,9]])\n",
    "pb_1=Link_Component(2,[1,-1],[[0,6],[0,7]])\n",
    "diagram=Link_Diagram(2,0)\n",
    "diagram.add_component(knot)\n",
    "diagram.add_component(pb_1)\n"
   ]
  },
  {
   "cell_type": "code",
   "execution_count": 28,
   "id": "3746f9c3",
   "metadata": {},
   "outputs": [
    {
     "name": "stdout",
     "output_type": "stream",
     "text": [
      "[  0 1/7 1/7]\n",
      "[1/7   0 1/7]\n",
      "[1/7 1/7   0]\n"
     ]
    }
   ],
   "source": [
    "#Can use any p for winding number 0\n",
    "p=3\n",
    "cover=Cyclic_Cover(p,diagram)\n",
    "lk_matrix=Matrix(QQ,p)\n",
    "\n",
    "for i in range(p):\n",
    "    for j in range(p):\n",
    "         if i!=j:\n",
    "            lk_matrix[i,j]=cover.linking_number(1,i+1,1,j+1)\n",
    "print(lk_matrix)"
   ]
  },
  {
   "cell_type": "code",
   "execution_count": 53,
   "id": "217e7c1f",
   "metadata": {},
   "outputs": [],
   "source": [
    "#Winding number w=p*multiple family with w-twist region between P and eta\n",
    "def stevedore_eta_twist(p,multiple):\n",
    "    \n",
    "    w=p*multiple\n",
    "    \n",
    "\n",
    "    knot_signs=[-1,-1,1,-1,-1,1,1,-1]+w*[-1]+[1,1]\n",
    "    knot_overstrands=[[0,4],[0,3],[0,6],[0,1],[0,0],[1,1],[0,2],[1,1]]+[[1,2+i] for i in range(w)]+[[0,8+w],[0,9+w]]\n",
    "    knot=Link_Component(2,knot_signs,knot_overstrands)\n",
    "\n",
    "    pb_1_signs=[1]+w*[1]+[-1]\n",
    "    pb_1_overstrands=[[0,6]]+[[0,8+i] for i in range(w)]+[[0,7]]\n",
    "    pb_1=Link_Component(2,pb_1_signs,pb_1_overstrands)\n",
    "\n",
    "    diagram=Link_Diagram(2,0)\n",
    "    diagram.add_component(knot)\n",
    "    diagram.add_component(pb_1)\n",
    "\n",
    "\n",
    "    lk_matrix=Matrix(QQ,p)\n",
    "    cover=Cyclic_Cover(p,diagram)\n",
    "    for i in range(p):\n",
    "        for j in range(p):\n",
    "             if i!=j:\n",
    "                lk_matrix[i,j]=cover.linking_number(1,i+1,1,j+1)\n",
    "    return lk_matrix\n",
    "    "
   ]
  },
  {
   "cell_type": "code",
   "execution_count": 55,
   "id": "266d9b97",
   "metadata": {},
   "outputs": [
    {
     "name": "stdout",
     "output_type": "stream",
     "text": [
      "[  0 2/9]\n",
      "[2/9   0]\n",
      "\n",
      "[   0 -7/9]\n",
      "[-7/9    0]\n",
      "\n",
      "[    0 -16/9]\n",
      "[-16/9     0]\n",
      "\n",
      "[    0 -25/9]\n",
      "[-25/9     0]\n",
      "\n",
      "[    0 -34/9]\n",
      "[-34/9     0]\n",
      "\n"
     ]
    }
   ],
   "source": [
    "for m in range(5):\n",
    "    print(stevedore_eta_twist(2,m))\n",
    "    print()"
   ]
  },
  {
   "cell_type": "code",
   "execution_count": 56,
   "id": "040829b4",
   "metadata": {},
   "outputs": [
    {
     "name": "stdout",
     "output_type": "stream",
     "text": [
      "[    0   1/7   8/7]\n",
      "[  1/7     0 -13/7]\n",
      "[  1/7   1/7     0]\n",
      "\n",
      "[    0  -6/7   1/7]\n",
      "[ -6/7     0 -20/7]\n",
      "[ -6/7  -6/7     0]\n",
      "\n",
      "[    0 -13/7  -6/7]\n",
      "[-13/7     0 -27/7]\n",
      "[-13/7 -13/7     0]\n",
      "\n",
      "[    0 -20/7 -13/7]\n",
      "[-20/7     0 -34/7]\n",
      "[-20/7 -20/7     0]\n",
      "\n",
      "[    0 -27/7 -20/7]\n",
      "[-27/7     0 -41/7]\n",
      "[-27/7 -27/7     0]\n",
      "\n"
     ]
    }
   ],
   "source": [
    "for m in range(5):\n",
    "    print(stevedore_eta_twist(3,m))\n",
    "    print()"
   ]
  },
  {
   "cell_type": "code",
   "execution_count": null,
   "id": "d5332248",
   "metadata": {},
   "outputs": [],
   "source": []
  }
 ],
 "metadata": {
  "kernelspec": {
   "display_name": "SageMath 9.6",
   "language": "sage",
   "name": "sagemath-9.6"
  },
  "language_info": {
   "codemirror_mode": {
    "name": "ipython",
    "version": 3
   },
   "file_extension": ".py",
   "mimetype": "text/x-python",
   "name": "python",
   "nbconvert_exporter": "python",
   "pygments_lexer": "ipython3",
   "version": "3.10.3"
  }
 },
 "nbformat": 4,
 "nbformat_minor": 5
}
