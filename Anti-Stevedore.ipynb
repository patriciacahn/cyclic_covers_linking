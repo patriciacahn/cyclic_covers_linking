{
 "cells": [
  {
   "cell_type": "code",
   "execution_count": 13,
   "id": "9709a200",
   "metadata": {},
   "outputs": [],
   "source": [
    "load('./cyclic_linking_numbers.sage')"
   ]
  },
  {
   "cell_type": "code",
   "execution_count": 14,
   "id": "69fd77b6",
   "metadata": {},
   "outputs": [],
   "source": [
    "knot=Link_Component(2,[1,1,1,-1,1,1,-1,-1],[[0,5],[0,4],[1,0],[0,6],[0,1],[0,0],[0,3],[1,0]])\n",
    "pb_1=Link_Component(2,[-1,1],[[0,0],[0,2]])\n",
    "diagram=Link_Diagram(2,0)\n",
    "diagram.add_component(knot)\n",
    "diagram.add_component(pb_1)\n",
    "p=2\n",
    "cover=Cyclic_Cover(p,diagram)"
   ]
  },
  {
   "cell_type": "code",
   "execution_count": 15,
   "id": "b7a187cc",
   "metadata": {},
   "outputs": [
    {
     "data": {
      "text/plain": [
       "(1, -1, -11/9, 11/9, 13/9, -13/9, 4/9, -4/9, -4/3, 4/3, 10/9, -10/9, -8/9, 8/9, 0, 0)"
      ]
     },
     "execution_count": 15,
     "metadata": {},
     "output_type": "execute_result"
    }
   ],
   "source": [
    "cover.two_chain(1,1)"
   ]
  },
  {
   "cell_type": "code",
   "execution_count": 16,
   "id": "fce09abc",
   "metadata": {},
   "outputs": [
    {
     "data": {
      "text/plain": [
       "(-1, 1, 11/9, -11/9, -13/9, 13/9, -4/9, 4/9, 4/3, -4/3, -10/9, 10/9, 8/9, -8/9, 0, 0)"
      ]
     },
     "execution_count": 16,
     "metadata": {},
     "output_type": "execute_result"
    }
   ],
   "source": [
    "cover.two_chain(1,2)"
   ]
  },
  {
   "cell_type": "code",
   "execution_count": 17,
   "id": "a3f6dc66",
   "metadata": {},
   "outputs": [
    {
     "data": {
      "text/plain": [
       "4/9"
      ]
     },
     "execution_count": 17,
     "metadata": {},
     "output_type": "execute_result"
    }
   ],
   "source": [
    "cover.linking_number(1,1,1,2)"
   ]
  },
  {
   "cell_type": "code",
   "execution_count": 18,
   "id": "926c0c6d",
   "metadata": {},
   "outputs": [
    {
     "data": {
      "text/plain": [
       "4/9"
      ]
     },
     "execution_count": 18,
     "metadata": {},
     "output_type": "execute_result"
    }
   ],
   "source": [
    "cover.linking_number(1,2,1,1)"
   ]
  },
  {
   "cell_type": "code",
   "execution_count": null,
   "id": "0076ff5b",
   "metadata": {},
   "outputs": [],
   "source": []
  }
 ],
 "metadata": {
  "kernelspec": {
   "display_name": "SageMath 9.6",
   "language": "sage",
   "name": "sagemath-9.6"
  },
  "language_info": {
   "codemirror_mode": {
    "name": "ipython",
    "version": 3
   },
   "file_extension": ".py",
   "mimetype": "text/x-python",
   "name": "python",
   "nbconvert_exporter": "python",
   "pygments_lexer": "ipython3",
   "version": "3.10.3"
  }
 },
 "nbformat": 4,
 "nbformat_minor": 5
}
