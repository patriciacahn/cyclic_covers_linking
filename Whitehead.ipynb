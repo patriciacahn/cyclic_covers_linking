{
 "cells": [
  {
   "cell_type": "code",
   "execution_count": 40,
   "id": "dc113579",
   "metadata": {},
   "outputs": [],
   "source": [
    "load('./cyclic_linking_numbers.sage')"
   ]
  },
  {
   "cell_type": "code",
   "execution_count": 41,
   "id": "b93134b2",
   "metadata": {},
   "outputs": [],
   "source": [
    "#Original whitehead double\n",
    "knot=Link_Component(2,[-1,1,-1,-1],[[0,3],[1,0],[0,1],[1,0]])\n",
    "pb_1=Link_Component(2,[-1,1],[[0,0],[0,1]])\n",
    "diagram=Link_Diagram(2,0)\n",
    "diagram.add_component(knot)\n",
    "diagram.add_component(pb_1)\n",
    "p=2"
   ]
  },
  {
   "cell_type": "code",
   "execution_count": 42,
   "id": "f97700be",
   "metadata": {},
   "outputs": [],
   "source": [
    "cover=Cyclic_Cover(p,diagram)"
   ]
  },
  {
   "cell_type": "code",
   "execution_count": 43,
   "id": "45e7f6e7",
   "metadata": {},
   "outputs": [
    {
     "data": {
      "text/plain": [
       "(1, -1, 1, -1, 2, -2, 0, 0)"
      ]
     },
     "execution_count": 43,
     "metadata": {},
     "output_type": "execute_result"
    }
   ],
   "source": [
    "cover.two_chain(1,1)"
   ]
  },
  {
   "cell_type": "code",
   "execution_count": 44,
   "id": "4614a3a0",
   "metadata": {},
   "outputs": [
    {
     "data": {
      "text/plain": [
       "(-1, 1, -1, 1, -2, 2, 0, 0)"
      ]
     },
     "execution_count": 44,
     "metadata": {},
     "output_type": "execute_result"
    }
   ],
   "source": [
    "cover.two_chain(1,2)"
   ]
  },
  {
   "cell_type": "code",
   "execution_count": 45,
   "id": "e6bf4bf0",
   "metadata": {},
   "outputs": [
    {
     "data": {
      "text/plain": [
       "-2"
      ]
     },
     "execution_count": 45,
     "metadata": {},
     "output_type": "execute_result"
    }
   ],
   "source": [
    "cover.linking_number(1,1,1,2)"
   ]
  },
  {
   "cell_type": "code",
   "execution_count": 46,
   "id": "ba6e2d7f",
   "metadata": {},
   "outputs": [
    {
     "data": {
      "text/plain": [
       "-2"
      ]
     },
     "execution_count": 46,
     "metadata": {},
     "output_type": "execute_result"
    }
   ],
   "source": [
    "cover.linking_number(1,2,1,1)"
   ]
  },
  {
   "cell_type": "code",
   "execution_count": 47,
   "id": "e6c866f9",
   "metadata": {},
   "outputs": [],
   "source": [
    "knot=Link_Component(2,[1,1,1,1,1,-1],[[0,4],[0,3],[1,0],[0,1],[0,0],[1,0]])\n",
    "pb_1=Link_Component(2,[-1,1],[[0,0],[0,2]])\n",
    "diagram=Link_Diagram(2,0)\n",
    "diagram.add_component(knot)\n",
    "diagram.add_component(pb_1)\n",
    "p=2\n",
    "cover=Cyclic_Cover(p,diagram)"
   ]
  },
  {
   "cell_type": "code",
   "execution_count": 48,
   "id": "d80a2edc",
   "metadata": {},
   "outputs": [
    {
     "data": {
      "text/plain": [
       "(1, -1, -3, 3, 5, -5, 4, -4, -2, 2, 0, 0)"
      ]
     },
     "execution_count": 48,
     "metadata": {},
     "output_type": "execute_result"
    }
   ],
   "source": [
    "cover.two_chain(1,1)"
   ]
  },
  {
   "cell_type": "code",
   "execution_count": 49,
   "id": "6ab31794",
   "metadata": {},
   "outputs": [
    {
     "data": {
      "text/plain": [
       "(-1, 1, 3, -3, -5, 5, -4, 4, 2, -2, 0, 0)"
      ]
     },
     "execution_count": 49,
     "metadata": {},
     "output_type": "execute_result"
    }
   ],
   "source": [
    "cover.two_chain(1,2)"
   ]
  },
  {
   "cell_type": "code",
   "execution_count": 50,
   "id": "d81e1364",
   "metadata": {},
   "outputs": [
    {
     "data": {
      "text/plain": [
       "4"
      ]
     },
     "execution_count": 50,
     "metadata": {},
     "output_type": "execute_result"
    }
   ],
   "source": [
    "cover.linking_number(1,1,1,2)"
   ]
  },
  {
   "cell_type": "code",
   "execution_count": 51,
   "id": "772fdf38",
   "metadata": {},
   "outputs": [
    {
     "data": {
      "text/plain": [
       "4"
      ]
     },
     "execution_count": 51,
     "metadata": {},
     "output_type": "execute_result"
    }
   ],
   "source": [
    "cover.linking_number(1,2,1,1)"
   ]
  },
  {
   "cell_type": "code",
   "execution_count": 52,
   "id": "010b7bc9",
   "metadata": {},
   "outputs": [],
   "source": [
    "#Stevedore (Whitehead with 2 full vertical twists)\n",
    "knot=Link_Component(2,[-1,1,1,1,-1,1,1,-1],[[0,5],[1,0],[0,7],[0,6],[0,1],[0,4],[0,3],[1,0]])\n",
    "pb_1=Link_Component(2,[-1,1],[[0,0],[0,1]])\n",
    "diagram=Link_Diagram(2,0)\n",
    "diagram.add_component(knot)\n",
    "diagram.add_component(pb_1)\n",
    "p=2\n",
    "cover=Cyclic_Cover(p,diagram)"
   ]
  },
  {
   "cell_type": "code",
   "execution_count": 53,
   "id": "07ba430a",
   "metadata": {},
   "outputs": [
    {
     "data": {
      "text/plain": [
       "-2/9"
      ]
     },
     "execution_count": 53,
     "metadata": {},
     "output_type": "execute_result"
    }
   ],
   "source": [
    "cover.linking_number(1,1,1,2)"
   ]
  },
  {
   "cell_type": "code",
   "execution_count": 54,
   "id": "747c0ebb",
   "metadata": {},
   "outputs": [
    {
     "data": {
      "text/plain": [
       "-2/9"
      ]
     },
     "execution_count": 54,
     "metadata": {},
     "output_type": "execute_result"
    }
   ],
   "source": [
    "cover.linking_number(1,2,1,1)"
   ]
  },
  {
   "cell_type": "code",
   "execution_count": null,
   "id": "085330a7",
   "metadata": {},
   "outputs": [],
   "source": []
  }
 ],
 "metadata": {
  "kernelspec": {
   "display_name": "SageMath 9.6",
   "language": "sage",
   "name": "sagemath-9.6"
  },
  "language_info": {
   "codemirror_mode": {
    "name": "ipython",
    "version": 3
   },
   "file_extension": ".py",
   "mimetype": "text/x-python",
   "name": "python",
   "nbconvert_exporter": "python",
   "pygments_lexer": "ipython3",
   "version": "3.10.3"
  }
 },
 "nbformat": 4,
 "nbformat_minor": 5
}
