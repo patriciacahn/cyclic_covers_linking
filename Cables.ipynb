{
 "cells": [
  {
   "cell_type": "code",
   "execution_count": 1,
   "id": "c581b374",
   "metadata": {},
   "outputs": [],
   "source": [
    "load('./cyclic_linking_numbers.sage')"
   ]
  },
  {
   "cell_type": "code",
   "execution_count": 2,
   "id": "5b05d65f",
   "metadata": {},
   "outputs": [],
   "source": [
    "#(3,1) cable\n",
    "\n",
    "knot=Link_Component(2,[1,1,1,1,1,1],[[1,0],[0,0],[1,0],[0,0],[1,0],[0,0]])\n",
    "pb_1=Link_Component(2,[1,1,1],[[0,1],[0,3],[0,5]])\n",
    "diagram=Link_Diagram(2,0)\n",
    "diagram.add_component(knot)\n",
    "diagram.add_component(pb_1)\n",
    "q=3"
   ]
  },
  {
   "cell_type": "code",
   "execution_count": 3,
   "id": "aca83bc6",
   "metadata": {},
   "outputs": [],
   "source": [
    "cover=Cyclic_Cover(q,diagram)"
   ]
  },
  {
   "cell_type": "code",
   "execution_count": 4,
   "id": "c4e5f53d",
   "metadata": {},
   "outputs": [
    {
     "name": "stdout",
     "output_type": "stream",
     "text": [
      "(0, 0, 0, -1, 0, 1, -1, 0, 1, -1, 1, 0, -1, 1, 0, 0, 0, 0)\n",
      "(0, 0, 0, 1, -1, 0, 1, -1, 0, 0, -1, 1, 0, -1, 1, 0, 0, 0)\n",
      "(0, 0, 0, 0, 1, -1, 0, 1, -1, 1, 0, -1, 1, 0, -1, 0, 0, 0)\n"
     ]
    }
   ],
   "source": [
    "for i in range(1,q+1):\n",
    "    print(cover.two_chain(1,i))"
   ]
  },
  {
   "cell_type": "code",
   "execution_count": 5,
   "id": "8574f52c",
   "metadata": {},
   "outputs": [
    {
     "name": "stdout",
     "output_type": "stream",
     "text": [
      "linking of pb lift  1 with pb lift  2\n",
      "1\n",
      "linking of pb lift  1 with pb lift  3\n",
      "1\n",
      "linking of pb lift  2 with pb lift  3\n",
      "1\n"
     ]
    }
   ],
   "source": [
    "for i in range(1,q+1):\n",
    "    for j in range(1,q+1):\n",
    "        if i!=j and i<j:\n",
    "            print(\"linking of pb lift \",i,\"with pb lift \",j)\n",
    "            print(cover.linking_number(1,i,1,j))\n",
    "           \n",
    "            "
   ]
  },
  {
   "cell_type": "code",
   "execution_count": null,
   "id": "fa88fdfd",
   "metadata": {},
   "outputs": [],
   "source": [
    "#(n,1) cable\n",
    "n=3\n",
    "signs=[1 for i in range(2*n)]\n",
    "over_strands=n*[[1,0],[0,0]]\n",
    "knot=Link_Component(2,signs,over_strands)\n",
    "\n",
    "pb_signs=[1 for i in range(n)]\n",
    "pb_over_strands=[[0,2*i+1] for i in range(n)]\n",
    "pb=Link_Component(2,pb_signs,pb_over_strands)\n",
    "\n",
    "diagram=Link_Diagram(2,0)\n",
    "diagram.add_component(knot)\n",
    "diagram.add_component(pb)\n",
    "\n",
    "cover=Cyclic_Cover(n,diagram)"
   ]
  },
  {
   "cell_type": "code",
   "execution_count": null,
   "id": "ec551461",
   "metadata": {},
   "outputs": [],
   "source": [
    "for i in range(1,n+1):\n",
    "    for j in range(1,n+1):\n",
    "        if i!=j:\n",
    "            print(\"lift \",i, \"with lift \",j)\n",
    "            print(cover.linking_number(1,i,1,j))\n",
    "    print()"
   ]
  },
  {
   "cell_type": "code",
   "execution_count": null,
   "id": "442a539a",
   "metadata": {},
   "outputs": [],
   "source": [
    "for i in range(1,n+1):\n",
    "    print(cover.two_chain(1,i))\n",
    "    print()"
   ]
  },
  {
   "cell_type": "code",
   "execution_count": null,
   "id": "d1bf39a2",
   "metadata": {},
   "outputs": [],
   "source": [
    "#Print 2-chain with variable assignments\n",
    "#columns x_0^1, x_0^2,\\dots, x_0^p, x_1^1,x_1^2,\\dots,x_1^p,\\dots\n",
    "num_crossings=2*n\n",
    "chains_list=[]\n",
    "for i in range(1,n+1):\n",
    "    chains_list.append(cover.two_chain(1,i))\n",
    "\n",
    "for chain in chains_list:\n",
    "    for i in range(len(chain)):\n",
    "        if chain[i]!=0:\n",
    "            subscript=i //n\n",
    "            superscript=(i %n)+1\n",
    "            print(\"x_\",subscript,\"^\",superscript,\"=\",chain[i])\n",
    "    print()"
   ]
  },
  {
   "cell_type": "code",
   "execution_count": null,
   "id": "9787a5c0",
   "metadata": {},
   "outputs": [],
   "source": []
  },
  {
   "cell_type": "code",
   "execution_count": null,
   "id": "9a916a75",
   "metadata": {},
   "outputs": [],
   "source": []
  }
 ],
 "metadata": {
  "kernelspec": {
   "display_name": "SageMath 9.6",
   "language": "sage",
   "name": "sagemath-9.6"
  },
  "language_info": {
   "codemirror_mode": {
    "name": "ipython",
    "version": 3
   },
   "file_extension": ".py",
   "mimetype": "text/x-python",
   "name": "python",
   "nbconvert_exporter": "python",
   "pygments_lexer": "ipython3",
   "version": "3.10.3"
  }
 },
 "nbformat": 4,
 "nbformat_minor": 5
}
