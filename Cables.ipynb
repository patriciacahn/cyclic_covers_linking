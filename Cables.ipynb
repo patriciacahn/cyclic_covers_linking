{
 "cells": [
  {
   "cell_type": "code",
   "execution_count": 6,
   "id": "c581b374",
   "metadata": {},
   "outputs": [],
   "source": [
    "load('./cyclic_linking_numbers.sage')"
   ]
  },
  {
   "cell_type": "code",
   "execution_count": 2,
   "id": "5b05d65f",
   "metadata": {},
   "outputs": [],
   "source": [
    "#(3,1) cable\n",
    "knot=Link_Component(2,[-1,1,-1,1,1,-1],[[1,0],[0,0],[1,0],[0,0],[0,4],[1,0]])\n",
    "pb_1=Link_Component(2,[-1,-1,-1],[[0,0],[0,3],[0,1]])\n",
    "diagram=Link_Diagram(2,0)\n",
    "diagram.add_component(knot)\n",
    "diagram.add_component(pb_1)\n",
    "p=3"
   ]
  },
  {
   "cell_type": "code",
   "execution_count": 3,
   "id": "aca83bc6",
   "metadata": {},
   "outputs": [],
   "source": [
    "cover=Cyclic_Cover(p,diagram)"
   ]
  },
  {
   "cell_type": "code",
   "execution_count": 4,
   "id": "c4e5f53d",
   "metadata": {},
   "outputs": [
    {
     "name": "stdout",
     "output_type": "stream",
     "text": [
      "(1, 0, -1, 2, 0, -2, 1, -1, 0, 1, -2, 1, 0, 0, 0, 0, 0, 0)\n",
      "(-1, 1, 0, -2, 2, 0, 0, 1, -1, 1, 1, -2, 0, 0, 0, 0, 0, 0)\n",
      "(0, -1, 1, 0, -2, 2, -1, 0, 1, -2, 1, 1, 0, 0, 0, 0, 0, 0)\n"
     ]
    }
   ],
   "source": [
    "for i in range(1,p+1):\n",
    "    print(cover.two_chain(1,i))"
   ]
  },
  {
   "cell_type": "code",
   "execution_count": 5,
   "id": "46bd7e7e",
   "metadata": {},
   "outputs": [
    {
     "data": {
      "text/plain": [
       "1"
      ]
     },
     "execution_count": 5,
     "metadata": {},
     "output_type": "execute_result"
    }
   ],
   "source": [
    "cover.linking_number(1,1,1,2)"
   ]
  },
  {
   "cell_type": "code",
   "execution_count": 6,
   "id": "8574f52c",
   "metadata": {},
   "outputs": [
    {
     "name": "stdout",
     "output_type": "stream",
     "text": [
      "linking of pb lift  1 with pb lift  2\n",
      "1\n",
      "1\n",
      "linking of pb lift  1 with pb lift  3\n",
      "1\n",
      "1\n",
      "linking of pb lift  2 with pb lift  3\n",
      "1\n",
      "1\n"
     ]
    }
   ],
   "source": [
    "for i in range(1,p+1):\n",
    "    for j in range(1,p+1):\n",
    "        if i!=j and i<j:\n",
    "            print(\"linking of pb lift \",i,\"with pb lift \",j)\n",
    "            print(cover.linking_number(1,i,1,j))\n",
    "            print(cover.linking_number(1,j,1,i))\n",
    "            "
   ]
  },
  {
   "cell_type": "code",
   "execution_count": 27,
   "id": "fa88fdfd",
   "metadata": {},
   "outputs": [],
   "source": [
    "#(n,1) cable\n",
    "n=5\n",
    "signs=[1 for i in range(2*n)]\n",
    "over_strands=n*[[1,0],[0,0]]\n",
    "knot=Link_Component(2,signs,over_strands)\n",
    "\n",
    "pb_signs=[1 for i in range(n)]\n",
    "pb_over_strands=[[0,2*i+1] for i in range(n)]\n",
    "pb=Link_Component(2,pb_signs,pb_over_strands)\n",
    "\n",
    "diagram=Link_Diagram(2,0)\n",
    "diagram.add_component(knot)\n",
    "diagram.add_component(pb)\n",
    "\n",
    "cover=Cyclic_Cover(n,diagram)"
   ]
  },
  {
   "cell_type": "code",
   "execution_count": 28,
   "id": "ec551461",
   "metadata": {},
   "outputs": [
    {
     "name": "stdout",
     "output_type": "stream",
     "text": [
      "lift  1 with lift  2\n",
      "1\n",
      "lift  1 with lift  3\n",
      "1\n",
      "lift  1 with lift  4\n",
      "1\n",
      "lift  1 with lift  5\n",
      "1\n",
      "\n",
      "lift  2 with lift  1\n",
      "1\n",
      "lift  2 with lift  3\n",
      "1\n",
      "lift  2 with lift  4\n",
      "1\n",
      "lift  2 with lift  5\n",
      "1\n",
      "\n",
      "lift  3 with lift  1\n",
      "1\n",
      "lift  3 with lift  2\n",
      "1\n",
      "lift  3 with lift  4\n",
      "1\n",
      "lift  3 with lift  5\n",
      "1\n",
      "\n",
      "lift  4 with lift  1\n",
      "1\n",
      "lift  4 with lift  2\n",
      "1\n",
      "lift  4 with lift  3\n",
      "1\n",
      "lift  4 with lift  5\n",
      "1\n",
      "\n",
      "lift  5 with lift  1\n",
      "1\n",
      "lift  5 with lift  2\n",
      "1\n",
      "lift  5 with lift  3\n",
      "1\n",
      "lift  5 with lift  4\n",
      "1\n",
      "\n"
     ]
    }
   ],
   "source": [
    "for i in range(1,n+1):\n",
    "    for j in range(1,n+1):\n",
    "        if i!=j:\n",
    "            print(\"lift \",i, \"with lift \",j)\n",
    "            print(cover.linking_number(1,i,1,j))\n",
    "    print()"
   ]
  },
  {
   "cell_type": "code",
   "execution_count": 30,
   "id": "442a539a",
   "metadata": {},
   "outputs": [
    {
     "name": "stdout",
     "output_type": "stream",
     "text": [
      "(0, 0, 0, 0, 0, -1, 0, 0, 0, 1, -1, 0, 0, 0, 1, -1, 0, 0, 1, 0, -1, 0, 0, 1, 0, -1, 0, 1, 0, 0, -1, 0, 1, 0, 0, -1, 1, 0, 0, 0, -1, 1, 0, 0, 0, 0, 0, 0, 0, 0)\n",
      "\n",
      "(0, 0, 0, 0, 0, 1, -1, 0, 0, 0, 1, -1, 0, 0, 0, 0, -1, 0, 0, 1, 0, -1, 0, 0, 1, 0, -1, 0, 1, 0, 0, -1, 0, 1, 0, 0, -1, 1, 0, 0, 0, -1, 1, 0, 0, 0, 0, 0, 0, 0)\n",
      "\n",
      "(0, 0, 0, 0, 0, 0, 1, -1, 0, 0, 0, 1, -1, 0, 0, 1, 0, -1, 0, 0, 1, 0, -1, 0, 0, 0, 0, -1, 0, 1, 0, 0, -1, 0, 1, 0, 0, -1, 1, 0, 0, 0, -1, 1, 0, 0, 0, 0, 0, 0)\n",
      "\n",
      "(0, 0, 0, 0, 0, 0, 0, 1, -1, 0, 0, 0, 1, -1, 0, 0, 1, 0, -1, 0, 0, 1, 0, -1, 0, 1, 0, 0, -1, 0, 1, 0, 0, -1, 0, 0, 0, 0, -1, 1, 0, 0, 0, -1, 1, 0, 0, 0, 0, 0)\n",
      "\n",
      "(0, 0, 0, 0, 0, 0, 0, 0, 1, -1, 0, 0, 0, 1, -1, 0, 0, 1, 0, -1, 0, 0, 1, 0, -1, 0, 1, 0, 0, -1, 0, 1, 0, 0, -1, 1, 0, 0, 0, -1, 1, 0, 0, 0, -1, 0, 0, 0, 0, 0)\n",
      "\n"
     ]
    }
   ],
   "source": [
    "for i in range(1,n+1):\n",
    "    print(cover.two_chain(1,i))\n",
    "    print()"
   ]
  },
  {
   "cell_type": "code",
   "execution_count": 41,
   "id": "d1bf39a2",
   "metadata": {},
   "outputs": [
    {
     "name": "stdout",
     "output_type": "stream",
     "text": [
      "x_ 1 ^ 1 = -1\n",
      "x_ 1 ^ 5 = 1\n",
      "x_ 2 ^ 1 = -1\n",
      "x_ 2 ^ 5 = 1\n",
      "x_ 3 ^ 1 = -1\n",
      "x_ 3 ^ 4 = 1\n",
      "x_ 4 ^ 1 = -1\n",
      "x_ 4 ^ 4 = 1\n",
      "x_ 5 ^ 1 = -1\n",
      "x_ 5 ^ 3 = 1\n",
      "x_ 6 ^ 1 = -1\n",
      "x_ 6 ^ 3 = 1\n",
      "x_ 7 ^ 1 = -1\n",
      "x_ 7 ^ 2 = 1\n",
      "x_ 8 ^ 1 = -1\n",
      "x_ 8 ^ 2 = 1\n"
     ]
    }
   ],
   "source": [
    "#Print 2-chain with variable assignments\n",
    "#columns x_0^1, x_0^2,\\dots, x_0^p, x_1^1,x_1^2,\\dots,x_1^p,\\dots\n",
    "num_crossings=2*n\n",
    "chain=(0, 0, 0, 0, 0, -1, 0, 0, 0, 1, -1, 0, 0, 0, 1, -1, 0, 0, 1, 0, -1, 0, 0, 1, 0, -1, 0, 1, 0, 0, -1, 0, 1, 0, 0, -1, 1, 0, 0, 0, -1, 1, 0, 0, 0, 0, 0, 0, 0, 0)\n",
    "for i in range(len(chain)):\n",
    "    if chain[i]!=0:\n",
    "        subscript=i //n\n",
    "        superscript=(i %n)+1\n",
    "        print(\"x_\",subscript,\"^\",superscript,\"=\",chain[i])"
   ]
  },
  {
   "cell_type": "code",
   "execution_count": 36,
   "id": "0f26182a",
   "metadata": {},
   "outputs": [
    {
     "data": {
      "text/plain": [
       "0"
      ]
     },
     "execution_count": 36,
     "metadata": {},
     "output_type": "execute_result"
    }
   ],
   "source": [
    "3//5"
   ]
  },
  {
   "cell_type": "code",
   "execution_count": null,
   "id": "9787a5c0",
   "metadata": {},
   "outputs": [],
   "source": []
  }
 ],
 "metadata": {
  "kernelspec": {
   "display_name": "SageMath 9.5",
   "language": "sage",
   "name": "sagemath-9.5"
  },
  "language_info": {
   "codemirror_mode": {
    "name": "ipython",
    "version": 3
   },
   "file_extension": ".py",
   "mimetype": "text/x-python",
   "name": "python",
   "nbconvert_exporter": "python",
   "pygments_lexer": "ipython3",
   "version": "3.9.9"
  }
 },
 "nbformat": 4,
 "nbformat_minor": 5
}
