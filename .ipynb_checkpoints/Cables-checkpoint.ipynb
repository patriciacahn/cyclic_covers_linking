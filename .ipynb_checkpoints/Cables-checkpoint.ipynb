{
 "cells": [
  {
   "cell_type": "code",
   "execution_count": 1,
   "id": "c581b374",
   "metadata": {},
   "outputs": [],
   "source": [
    "load('./cyclic_linking_numbers.sage')"
   ]
  },
  {
   "cell_type": "code",
   "execution_count": 2,
   "id": "5b05d65f",
   "metadata": {},
   "outputs": [],
   "source": [
    "#(3,1) cable\n",
    "knot=Link_Component(2,[-1,1,-1,1,1,-1],[[1,0],[0,0],[1,0],[0,0],[0,4],[1,0]])\n",
    "pb_1=Link_Component(2,[-1,-1,-1],[[0,0],[0,3],[0,1]])\n",
    "diagram=Link_Diagram(2,0)\n",
    "diagram.add_component(knot)\n",
    "diagram.add_component(pb_1)\n",
    "p=3"
   ]
  },
  {
   "cell_type": "code",
   "execution_count": 3,
   "id": "aca83bc6",
   "metadata": {},
   "outputs": [],
   "source": [
    "cover=Cyclic_Cover(p,diagram)"
   ]
  },
  {
   "cell_type": "code",
   "execution_count": 4,
   "id": "c4e5f53d",
   "metadata": {},
   "outputs": [
    {
     "name": "stdout",
     "output_type": "stream",
     "text": [
      "(1, 0, -1, 2, 0, -2, 1, -1, 0, 1, -2, 1, 0, 0, 0, 0, 0, 0)\n",
      "(-1, 1, 0, -2, 2, 0, 0, 1, -1, 1, 1, -2, 0, 0, 0, 0, 0, 0)\n",
      "(0, -1, 1, 0, -2, 2, -1, 0, 1, -2, 1, 1, 0, 0, 0, 0, 0, 0)\n"
     ]
    }
   ],
   "source": [
    "for i in range(1,p+1):\n",
    "    print(cover.two_chain(1,i))"
   ]
  },
  {
   "cell_type": "code",
   "execution_count": 5,
   "id": "46bd7e7e",
   "metadata": {},
   "outputs": [
    {
     "data": {
      "text/plain": [
       "1"
      ]
     },
     "execution_count": 5,
     "metadata": {},
     "output_type": "execute_result"
    }
   ],
   "source": [
    "cover.linking_number(1,1,1,2)"
   ]
  },
  {
   "cell_type": "code",
   "execution_count": 6,
   "id": "8574f52c",
   "metadata": {},
   "outputs": [
    {
     "name": "stdout",
     "output_type": "stream",
     "text": [
      "linking of pb lift  1 with pb lift  2\n",
      "1\n",
      "1\n",
      "linking of pb lift  1 with pb lift  3\n",
      "1\n",
      "1\n",
      "linking of pb lift  2 with pb lift  3\n",
      "1\n",
      "1\n"
     ]
    }
   ],
   "source": [
    "for i in range(1,p+1):\n",
    "    for j in range(1,p+1):\n",
    "        if i!=j and i<j:\n",
    "            print(\"linking of pb lift \",i,\"with pb lift \",j)\n",
    "            print(cover.linking_number(1,i,1,j))\n",
    "            print(cover.linking_number(1,j,1,i))\n",
    "            "
   ]
  },
  {
   "cell_type": "code",
   "execution_count": 1,
   "id": "fa88fdfd",
   "metadata": {},
   "outputs": [],
   "source": [
    "#(n,1) cable\n",
    "signs=[1 for i in range(6)]\n",
    "over_strands=[]"
   ]
  },
  {
   "cell_type": "code",
   "execution_count": null,
   "id": "b69a2ecc",
   "metadata": {},
   "outputs": [],
   "source": []
  }
 ],
 "metadata": {
  "kernelspec": {
   "display_name": "SageMath 9.5",
   "language": "sage",
   "name": "sagemath-9.5"
  },
  "language_info": {
   "codemirror_mode": {
    "name": "ipython",
    "version": 3
   },
   "file_extension": ".py",
   "mimetype": "text/x-python",
   "name": "python",
   "nbconvert_exporter": "python",
   "pygments_lexer": "ipython3",
   "version": "3.9.9"
  }
 },
 "nbformat": 4,
 "nbformat_minor": 5
}
