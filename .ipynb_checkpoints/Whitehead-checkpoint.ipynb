{
 "cells": [
  {
   "cell_type": "code",
   "execution_count": 28,
   "id": "dc113579",
   "metadata": {},
   "outputs": [],
   "source": [
    "load('./cyclic_linking_numbers.sage')"
   ]
  },
  {
   "cell_type": "code",
   "execution_count": 29,
   "id": "b93134b2",
   "metadata": {},
   "outputs": [],
   "source": [
    "knot=Link_Component(2,[-1,1,-1,-1],[[0,3],[1,0],[0,1],[1,0]])\n",
    "pb_1=Link_Component(2,[-1,1],[[0,0],[0,1]])\n",
    "diagram=Link_Diagram(2,0)\n",
    "diagram.add_component(knot)\n",
    "diagram.add_component(pb_1)\n",
    "p=2"
   ]
  },
  {
   "cell_type": "code",
   "execution_count": 30,
   "id": "f97700be",
   "metadata": {},
   "outputs": [],
   "source": [
    "cover=Cyclic_Cover(p,diagram)"
   ]
  },
  {
   "cell_type": "code",
   "execution_count": 31,
   "id": "45e7f6e7",
   "metadata": {},
   "outputs": [
    {
     "data": {
      "text/plain": [
       "(1, -1, 1, -1, 2, -2, 0, 0)"
      ]
     },
     "execution_count": 31,
     "metadata": {},
     "output_type": "execute_result"
    }
   ],
   "source": [
    "cover.two_chain(1,1)"
   ]
  },
  {
   "cell_type": "code",
   "execution_count": 32,
   "id": "4614a3a0",
   "metadata": {},
   "outputs": [
    {
     "data": {
      "text/plain": [
       "(-1, 1, -1, 1, -2, 2, 0, 0)"
      ]
     },
     "execution_count": 32,
     "metadata": {},
     "output_type": "execute_result"
    }
   ],
   "source": [
    "cover.two_chain(1,2)"
   ]
  },
  {
   "cell_type": "code",
   "execution_count": 33,
   "id": "e6bf4bf0",
   "metadata": {},
   "outputs": [
    {
     "data": {
      "text/plain": [
       "-2"
      ]
     },
     "execution_count": 33,
     "metadata": {},
     "output_type": "execute_result"
    }
   ],
   "source": [
    "cover.linking_number(1,1,1,2)"
   ]
  },
  {
   "cell_type": "code",
   "execution_count": 34,
   "id": "ba6e2d7f",
   "metadata": {},
   "outputs": [
    {
     "data": {
      "text/plain": [
       "-2"
      ]
     },
     "execution_count": 34,
     "metadata": {},
     "output_type": "execute_result"
    }
   ],
   "source": [
    "cover.linking_number(1,2,1,1)"
   ]
  },
  {
   "cell_type": "code",
   "execution_count": 35,
   "id": "e6c866f9",
   "metadata": {},
   "outputs": [],
   "source": [
    "knot=Link_Component(2,[1,1,1,1,1,-1],[[0,4],[0,3],[1,0],[0,1],[0,0],[1,0]])\n",
    "pb_1=Link_Component(2,[-1,1],[[0,0],[0,2]])\n",
    "diagram=Link_Diagram(2,0)\n",
    "diagram.add_component(knot)\n",
    "diagram.add_component(pb_1)\n",
    "p=2\n",
    "cover=Cyclic_Cover(p,diagram)"
   ]
  },
  {
   "cell_type": "code",
   "execution_count": 36,
   "id": "d80a2edc",
   "metadata": {},
   "outputs": [
    {
     "data": {
      "text/plain": [
       "(1, -1, -3, 3, 5, -5, 4, -4, -2, 2, 0, 0)"
      ]
     },
     "execution_count": 36,
     "metadata": {},
     "output_type": "execute_result"
    }
   ],
   "source": [
    "cover.two_chain(1,1)"
   ]
  },
  {
   "cell_type": "code",
   "execution_count": 37,
   "id": "6ab31794",
   "metadata": {},
   "outputs": [
    {
     "data": {
      "text/plain": [
       "(-1, 1, 3, -3, -5, 5, -4, 4, 2, -2, 0, 0)"
      ]
     },
     "execution_count": 37,
     "metadata": {},
     "output_type": "execute_result"
    }
   ],
   "source": [
    "cover.two_chain(1,2)"
   ]
  },
  {
   "cell_type": "code",
   "execution_count": 38,
   "id": "d81e1364",
   "metadata": {},
   "outputs": [
    {
     "data": {
      "text/plain": [
       "4"
      ]
     },
     "execution_count": 38,
     "metadata": {},
     "output_type": "execute_result"
    }
   ],
   "source": [
    "cover.linking_number(1,1,1,2)"
   ]
  },
  {
   "cell_type": "code",
   "execution_count": 39,
   "id": "772fdf38",
   "metadata": {},
   "outputs": [
    {
     "data": {
      "text/plain": [
       "4"
      ]
     },
     "execution_count": 39,
     "metadata": {},
     "output_type": "execute_result"
    }
   ],
   "source": [
    "cover.linking_number(1,2,1,1)"
   ]
  },
  {
   "cell_type": "code",
   "execution_count": null,
   "id": "010b7bc9",
   "metadata": {},
   "outputs": [],
   "source": []
  },
  {
   "cell_type": "code",
   "execution_count": null,
   "id": "07ba430a",
   "metadata": {},
   "outputs": [],
   "source": []
  },
  {
   "cell_type": "code",
   "execution_count": null,
   "id": "747c0ebb",
   "metadata": {},
   "outputs": [],
   "source": []
  }
 ],
 "metadata": {
  "kernelspec": {
   "display_name": "SageMath 9.5",
   "language": "sage",
   "name": "sagemath-9.5"
  },
  "language_info": {
   "codemirror_mode": {
    "name": "ipython",
    "version": 3
   },
   "file_extension": ".py",
   "mimetype": "text/x-python",
   "name": "python",
   "nbconvert_exporter": "python",
   "pygments_lexer": "ipython3",
   "version": "3.9.9"
  }
 },
 "nbformat": 4,
 "nbformat_minor": 5
}
