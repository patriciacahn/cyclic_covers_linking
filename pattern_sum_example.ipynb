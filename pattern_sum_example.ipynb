{
 "cells": [
  {
   "cell_type": "code",
   "execution_count": 1,
   "id": "8c5c9a6a",
   "metadata": {},
   "outputs": [],
   "source": [
    "load('./cyclic_linking_numbers.sage')"
   ]
  },
  {
   "cell_type": "code",
   "execution_count": 2,
   "id": "9805d12e",
   "metadata": {},
   "outputs": [],
   "source": [
    "#Tie stevedore knot into 5,1 cable with 2 crossing changes\n",
    "\n",
    "knot_overstrands=[[0,4],[0,3],[0,5],[0,1],[0,0],[0,2],[0,6],[0,7],[0,16],[1,0],[0,16],[1,0],[1,0],[1,0],[0,13],[0,12],[1,0]]\n",
    "knot_signs=[1,1,-1,1,1,-1,-1,-1,1,-1,1,-1,-1,-1,-1,-1,-1]"
   ]
  },
  {
   "cell_type": "code",
   "execution_count": 3,
   "id": "8c3dfa3b",
   "metadata": {},
   "outputs": [
    {
     "data": {
      "text/plain": [
       "17"
      ]
     },
     "execution_count": 3,
     "metadata": {},
     "output_type": "execute_result"
    }
   ],
   "source": [
    "len(knot_overstrands)"
   ]
  },
  {
   "cell_type": "code",
   "execution_count": 4,
   "id": "051f6aad",
   "metadata": {},
   "outputs": [
    {
     "data": {
      "text/plain": [
       "17"
      ]
     },
     "execution_count": 4,
     "metadata": {},
     "output_type": "execute_result"
    }
   ],
   "source": [
    "len(knot_signs)"
   ]
  },
  {
   "cell_type": "code",
   "execution_count": 5,
   "id": "8780eba8",
   "metadata": {},
   "outputs": [],
   "source": [
    "pb_1_overstrands=[[0,13],[0,12],[0,11],[0,9],[0,16]]\n",
    "pb_1_signs=[-1,-1,-1,-1,-1]"
   ]
  },
  {
   "cell_type": "code",
   "execution_count": 7,
   "id": "2f80b866",
   "metadata": {},
   "outputs": [],
   "source": [
    "knot=Link_Component(2,knot_signs,knot_overstrands)\n",
    "pb_1=Link_Component(2,pb_1_signs,pb_1_overstrands)"
   ]
  },
  {
   "cell_type": "code",
   "execution_count": 8,
   "id": "9f5fe5dd",
   "metadata": {},
   "outputs": [],
   "source": [
    "diagram=Link_Diagram(2,0)\n",
    "diagram.add_component(knot)\n",
    "diagram.add_component(pb_1)"
   ]
  },
  {
   "cell_type": "code",
   "execution_count": 9,
   "id": "830632b0",
   "metadata": {},
   "outputs": [],
   "source": [
    "cover=Cyclic_Cover(5,diagram)"
   ]
  },
  {
   "cell_type": "code",
   "execution_count": 10,
   "id": "70fd349d",
   "metadata": {},
   "outputs": [
    {
     "name": "stdout",
     "output_type": "stream",
     "text": [
      "lift  1 with lift  2\n",
      "0\n",
      "lift  1 with lift  3\n",
      "0\n",
      "lift  1 with lift  4\n",
      "0\n",
      "lift  1 with lift  5\n",
      "0\n",
      "\n",
      "lift  2 with lift  1\n",
      "0\n",
      "lift  2 with lift  3\n",
      "0\n",
      "lift  2 with lift  4\n",
      "0\n",
      "lift  2 with lift  5\n",
      "0\n",
      "\n",
      "lift  3 with lift  1\n",
      "0\n",
      "lift  3 with lift  2\n",
      "0\n",
      "lift  3 with lift  4\n",
      "0\n",
      "lift  3 with lift  5\n",
      "0\n",
      "\n",
      "lift  4 with lift  1\n",
      "0\n",
      "lift  4 with lift  2\n",
      "0\n",
      "lift  4 with lift  3\n",
      "0\n",
      "lift  4 with lift  5\n",
      "0\n",
      "\n",
      "lift  5 with lift  1\n",
      "0\n",
      "lift  5 with lift  2\n",
      "0\n",
      "lift  5 with lift  3\n",
      "0\n",
      "lift  5 with lift  4\n",
      "0\n",
      "\n"
     ]
    }
   ],
   "source": [
    "n=5\n",
    "for i in range(1,n+1):\n",
    "    for j in range(1,n+1):\n",
    "        if i!=j:\n",
    "            print(\"lift \",i, \"with lift \",j)\n",
    "            print(cover.linking_number(1,i,1,j))\n",
    "    print()"
   ]
  },
  {
   "cell_type": "code",
   "execution_count": null,
   "id": "67065de2",
   "metadata": {},
   "outputs": [],
   "source": []
  }
 ],
 "metadata": {
  "kernelspec": {
   "display_name": "SageMath 9.6",
   "language": "sage",
   "name": "sagemath-9.6"
  },
  "language_info": {
   "codemirror_mode": {
    "name": "ipython",
    "version": 3
   },
   "file_extension": ".py",
   "mimetype": "text/x-python",
   "name": "python",
   "nbconvert_exporter": "python",
   "pygments_lexer": "ipython3",
   "version": "3.10.3"
  }
 },
 "nbformat": 4,
 "nbformat_minor": 5
}
