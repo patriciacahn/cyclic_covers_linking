{
 "cells": [
  {
   "cell_type": "code",
   "execution_count": 20,
   "id": "9b64d8c5",
   "metadata": {},
   "outputs": [],
   "source": [
    "load('./cyclic_linking_numbers.sage')"
   ]
  },
  {
   "cell_type": "code",
   "execution_count": 21,
   "id": "11155d5f",
   "metadata": {},
   "outputs": [],
   "source": [
    "#k is the number of pairs of 2's before (2,4) in the 2-bridge knot; this is the same as the number of pairs of 2's \n",
    "#after (2,4)\n",
    "#C(2,2,...,2,2,2,4,2,2,...,2,2)\n",
    "\n",
    "def two_bridge_slice_diagram(k):\n",
    "    #left (purple) overstrand list\n",
    "    left_overstrands=[i for i in range(1,k+1)]+[i for i in range(k+2,2*k+3)]\n",
    "    left_overstrands_rev=list(left_overstrands)\n",
    "    left_overstrands_rev.reverse()\n",
    "    print('left_overstrands')\n",
    "    print(left_overstrands)\n",
    "    \n",
    "    #first middle (green) overstrand list\n",
    "\n",
    "    middle_overstrands_1=[2*i+2*k+3 for i in range(0,k+1)]+[2*(2*k+3)+2*i for i in range(0,k)]\n",
    "    middle_overstrands_1_rev=list(middle_overstrands_1)\n",
    "    middle_overstrands_1_rev.reverse()\n",
    "    print('middle_overstrands_1')\n",
    "    print(middle_overstrands_1)\n",
    "    \n",
    "    #second middle (blue) overstrand list\n",
    "\n",
    "    middle_overstrands_2=[2*k+4+2*i for i in range(0,k+1)]+[2*(2*k+3)+2*i+1 for i in range(0,k)]\n",
    "    middle_overstrands_2_rev=list(middle_overstrands_2)\n",
    "    middle_overstrands_2_rev.reverse()\n",
    "    print('middle_overstrands_2')\n",
    "    print(middle_overstrands_2)\n",
    "\n",
    "    #right (orange) overstrand list\n",
    "\n",
    "    right_overstrands=[3*(2*k+2)+i for i in range(0,2*k+2)]\n",
    "    right_overstrands_rev=list(right_overstrands)\n",
    "    right_overstrands_rev.reverse()\n",
    "    print('right_overstrands')\n",
    "    print(right_overstrands)\n",
    "    \n",
    "    knot_overstrands=[[] for i in range(4*(2*k+2)+2)]\n",
    "    knot_signs=[0 for i in range(4*(2*k+2)+2)]\n",
    "\n",
    "    for i in range(len(left_overstrands)-1):\n",
    "        knot_overstrands[left_overstrands[i]]=[0,middle_overstrands_1_rev[i]]\n",
    "        knot_signs[left_overstrands[i]]=1\n",
    "    knot_overstrands[len(left_overstrands)+1]=[1,0]\n",
    "    knot_signs[len(left_overstrands)+1]=-1\n",
    "\n",
    "    for i in range(len(middle_overstrands_1)):\n",
    "        knot_overstrands[middle_overstrands_1[i]]=[0,right_overstrands_rev[i]]\n",
    "        knot_signs[middle_overstrands_1[i]]=-1\n",
    "\n",
    "    for i in range(len(middle_overstrands_2)):\n",
    "        knot_overstrands[middle_overstrands_2[i]]=[0, left_overstrands_rev[i]]\n",
    "        knot_signs[middle_overstrands_2[i]]=1\n",
    "\n",
    "    for i in range(len(right_overstrands)-1):\n",
    "        knot_overstrands[right_overstrands[i]]=[0, middle_overstrands_2_rev[i]]\n",
    "        knot_signs[right_overstrands[i]]=-1\n",
    "\n",
    "    knot_overstrands[0]=[0,right_overstrands[0]]\n",
    "    knot_signs[0]=1\n",
    "\n",
    "    knot_overstrands[k+1]=[0,2*k+4+2*k+1]\n",
    "    knot_signs[k+1]=1\n",
    "    knot_overstrands[2*k+4+2*k+1]=[0,k+1]\n",
    "    knot_signs[2*k+4+2*k+1]=1\n",
    "\n",
    "    knot_overstrands[right_overstrands_rev[0]]=[1,0]\n",
    "    knot_signs[right_overstrands_rev[0]]=1\n",
    "\n",
    "    knot_overstrands[right_overstrands_rev[0]+1]=[0,right_overstrands_rev[0]+1]\n",
    "    knot_signs[right_overstrands_rev[0]+1]=-1\n",
    "\n",
    "    knot_overstrands[right_overstrands_rev[0]+2]=[0,right_overstrands_rev[0]+2]\n",
    "    knot_signs[right_overstrands_rev[0]+2]=-1\n",
    "\n",
    "    print('knot_overstrands')\n",
    "    print(knot_overstrands)\n",
    "    \n",
    "    pb_1_overstrands=[[0,right_overstrands_rev[0]],[0,middle_overstrands_1[0]]]\n",
    "    pb_1_signs=[1,-1]\n",
    "    \n",
    "    knot=Link_Component(2,knot_signs,knot_overstrands)\n",
    "    pb_1=Link_Component(2,pb_1_signs,pb_1_overstrands)\n",
    "    \n",
    "    diagram=Link_Diagram(2,0)\n",
    "    diagram.add_component(knot)\n",
    "    diagram.add_component(pb_1)\n",
    "    \n",
    "    return diagram"
   ]
  },
  {
   "cell_type": "code",
   "execution_count": 24,
   "id": "4de1237a",
   "metadata": {},
   "outputs": [
    {
     "name": "stdout",
     "output_type": "stream",
     "text": [
      "left_overstrands\n",
      "[2]\n",
      "middle_overstrands_1\n",
      "[3]\n",
      "middle_overstrands_2\n",
      "[4]\n",
      "right_overstrands\n",
      "[6, 7]\n",
      "knot_overstrands\n",
      "[[0, 6], [0, 5], [1, 0], [0, 7], [0, 2], [0, 1], [0, 4], [1, 0], [0, 8], [0, 9]]\n"
     ]
    }
   ],
   "source": [
    "diagram=two_bridge_slice_diagram(0)"
   ]
  },
  {
   "cell_type": "code",
   "execution_count": 25,
   "id": "67b2e51e",
   "metadata": {},
   "outputs": [
    {
     "name": "stdout",
     "output_type": "stream",
     "text": [
      "[  0 4/9]\n",
      "[4/9   0]\n",
      "[  0 2/7 2/7]\n",
      "[2/7   0 2/7]\n",
      "[2/7 2/7   0]\n",
      "[   0  2/9 8/45  2/9]\n",
      "[ 2/9    0  2/9 8/45]\n",
      "[8/45  2/9    0  2/9]\n",
      "[ 2/9 8/45  2/9    0]\n"
     ]
    }
   ],
   "source": [
    "#Can use any p for winding number 0\n",
    "for p in range(2,5):\n",
    "    cover=Cyclic_Cover(p,diagram)\n",
    "    lk_matrix=Matrix(QQ,p)\n",
    "\n",
    "    for i in range(p):\n",
    "        for j in range(p):\n",
    "             if i!=j:\n",
    "                lk_matrix[i,j]=cover.linking_number(1,i+1,1,j+1)\n",
    "    print(lk_matrix)"
   ]
  },
  {
   "cell_type": "code",
   "execution_count": null,
   "id": "3d16e005",
   "metadata": {},
   "outputs": [],
   "source": []
  }
 ],
 "metadata": {
  "kernelspec": {
   "display_name": "SageMath 9.6",
   "language": "sage",
   "name": "sagemath-9.6"
  },
  "language_info": {
   "codemirror_mode": {
    "name": "ipython",
    "version": 3
   },
   "file_extension": ".py",
   "mimetype": "text/x-python",
   "name": "python",
   "nbconvert_exporter": "python",
   "pygments_lexer": "ipython3",
   "version": "3.10.3"
  }
 },
 "nbformat": 4,
 "nbformat_minor": 5
}
