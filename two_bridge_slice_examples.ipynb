{
 "cells": [
  {
   "cell_type": "code",
   "execution_count": 1,
   "id": "df3687df",
   "metadata": {},
   "outputs": [],
   "source": [
    "load('./cyclic_linking_numbers.sage')"
   ]
  },
  {
   "cell_type": "code",
   "execution_count": 74,
   "id": "08252eb0",
   "metadata": {},
   "outputs": [],
   "source": [
    "#k is the number of pairs of 2's before (2,4) in the 2-bridge knot; this is the same as the number of pairs of 2's \n",
    "#after (2,4)\n",
    "#C(2,2,...,2,2,2,4,2,2,...,2,2)\n",
    "k=2\n",
    "\n",
    "#left (purple) overstrand list\n",
    "left_overstrands=[i for i in range(1,k+1)]+[i for i in range(k+2,2*k+3)]\n",
    "left_overstrands_rev=list(left_overstrands)\n",
    "left_overstrands_rev.reverse()\n",
    "\n",
    "#first middle (green) overstand list\n",
    "\n",
    "middle_overstrands_1=[2*i+2*k+3for i in range(0,k+1)]+[2*(2*k+3)+2*i for i in range(0,k)]\n",
    "middle_overstrands_1_rev=list(middle_overstrands_1)\n",
    "middle_overstrands_1_rev.reverse()\n",
    "\n",
    "#second middle (blue) overstrand list\n",
    "\n",
    "middle_overstrands_2=[2*k+4+2*i for i in range(0,k+1)]+[2*(2*k+3)+2*i+1 for i in range(0,k)]\n",
    "middle_overstrands_2_rev=list(middle_overstrands_2)\n",
    "middle_overstrands_2_rev.reverse()\n",
    "\n",
    "#right (orange) overstrand list\n",
    "\n",
    "right_overstrands=[3*(2*k+2)+i for i in range(0,2*k+2)]\n",
    "right_overstrands_rev=list(right_overstrands)\n",
    "right_overstrands_rev.reverse()\n"
   ]
  },
  {
   "cell_type": "code",
   "execution_count": 75,
   "id": "16820d8f",
   "metadata": {},
   "outputs": [
    {
     "data": {
      "text/plain": [
       "[1, 2, 4, 5, 6]"
      ]
     },
     "execution_count": 75,
     "metadata": {},
     "output_type": "execute_result"
    }
   ],
   "source": [
    "left_overstrands"
   ]
  },
  {
   "cell_type": "code",
   "execution_count": 76,
   "id": "c07178c8",
   "metadata": {},
   "outputs": [
    {
     "data": {
      "text/plain": [
       "[6, 5, 4, 2, 1]"
      ]
     },
     "execution_count": 76,
     "metadata": {},
     "output_type": "execute_result"
    }
   ],
   "source": [
    "left_overstrands_rev"
   ]
  },
  {
   "cell_type": "code",
   "execution_count": 63,
   "id": "cd8d1ba9",
   "metadata": {},
   "outputs": [
    {
     "data": {
      "text/plain": [
       "[7, 9, 11, 14, 16]"
      ]
     },
     "execution_count": 63,
     "metadata": {},
     "output_type": "execute_result"
    }
   ],
   "source": [
    "middle_overstrands_1"
   ]
  },
  {
   "cell_type": "code",
   "execution_count": 67,
   "id": "8aae82ef",
   "metadata": {},
   "outputs": [
    {
     "data": {
      "text/plain": [
       "[16, 14, 11, 9, 7]"
      ]
     },
     "execution_count": 67,
     "metadata": {},
     "output_type": "execute_result"
    }
   ],
   "source": [
    "middle_overstrands_1_rev"
   ]
  },
  {
   "cell_type": "code",
   "execution_count": 64,
   "id": "bf3feec4",
   "metadata": {},
   "outputs": [
    {
     "data": {
      "text/plain": [
       "[8, 10, 12, 15, 17]"
      ]
     },
     "execution_count": 64,
     "metadata": {},
     "output_type": "execute_result"
    }
   ],
   "source": [
    "middle_overstrands_2"
   ]
  },
  {
   "cell_type": "code",
   "execution_count": 68,
   "id": "2261fd09",
   "metadata": {},
   "outputs": [
    {
     "data": {
      "text/plain": [
       "[17, 15, 12, 10, 8]"
      ]
     },
     "execution_count": 68,
     "metadata": {},
     "output_type": "execute_result"
    }
   ],
   "source": [
    "middle_overstrands_2_rev"
   ]
  },
  {
   "cell_type": "code",
   "execution_count": 65,
   "id": "de729dec",
   "metadata": {},
   "outputs": [
    {
     "data": {
      "text/plain": [
       "[18, 19, 20, 21, 22, 23]"
      ]
     },
     "execution_count": 65,
     "metadata": {},
     "output_type": "execute_result"
    }
   ],
   "source": [
    "right_overstrands"
   ]
  },
  {
   "cell_type": "code",
   "execution_count": 69,
   "id": "6887acf7",
   "metadata": {},
   "outputs": [
    {
     "data": {
      "text/plain": [
       "[23, 22, 21, 20, 19, 18]"
      ]
     },
     "execution_count": 69,
     "metadata": {},
     "output_type": "execute_result"
    }
   ],
   "source": [
    "right_overstrands_rev"
   ]
  },
  {
   "cell_type": "code",
   "execution_count": 84,
   "id": "fa3dd0cc",
   "metadata": {},
   "outputs": [],
   "source": [
    "knot_overstrands=[[] for i in range(4*(2*k+2)+2)]\n",
    "knot_signs=[0 for i in range(4*(2*k+2)+2)]"
   ]
  },
  {
   "cell_type": "code",
   "execution_count": 119,
   "id": "5f8c447d",
   "metadata": {},
   "outputs": [],
   "source": [
    "\n",
    "\n",
    "for i in range(len(left_overstrands)-1):\n",
    "    knot_overstrands[left_overstrands[i]]=[0,middle_overstands_1_rev[i]]\n",
    "    knot_signs[left_overstrands[i]]=1\n",
    "knot_overstrands[len(left_overstrands)+1]=[1,0]\n",
    "knot_signs[len(left_overstrands)+1]=-1\n",
    "\n",
    "for i in range(len(middle_overstands_1)):\n",
    "    knot_overstrands[middle_overstands_1[i]]=[0,right_overstrands_rev[i]]\n",
    "    knot_signs[middle_overstands_1[i]]=-1\n",
    "    \n",
    "for i in range(len(middle_overstrands_2)):\n",
    "    knot_overstrands[middle_overstrands_2[i]]=[0, left_overstrands_rev[i]]\n",
    "    knot_signs[middle_overstrands_2[i]]=1\n",
    "    \n",
    "for i in range(len(right_overstrands)-1):\n",
    "    knot_overstrands[right_overstrands[i]]=[0, middle_overstrands_2_rev[i]]\n",
    "    knot_signs[right_overstrands[i]]=-1\n",
    "\n",
    "knot_overstrands[0]=[0,right_overstrands[0]]\n",
    "knot_signs[0]=1\n",
    "\n",
    "knot_overstrands[k+1]=[0,2*k+4+2*k+1]\n",
    "knot_signs[k+1]=1\n",
    "knot_overstrands[2*k+4+2*k+1]=[0,k+1]\n",
    "knot_signs[2*k+4+2*k+1]=1\n",
    "\n",
    "knot_overstrands[right_overstrands_rev[0]]=[1,0]\n",
    "knot_signs[right_overstrands_rev[0]]=1\n",
    "\n",
    "knot_overstrands[right_overstrands_rev[0]+1]=[0,right_overstrands_rev[0]+1]\n",
    "knot_signs[right_overstrands_rev[0]+1]=-1\n",
    "\n",
    "knot_overstrands[right_overstrands_rev[0]+2]=[0,right_overstrands_rev[0]+2]\n",
    "knot_signs[right_overstrands_rev[0]+2]=-1"
   ]
  },
  {
   "cell_type": "code",
   "execution_count": 120,
   "id": "b6ed1568",
   "metadata": {},
   "outputs": [
    {
     "data": {
      "text/plain": [
       "[[0, 18],\n",
       " [0, 16],\n",
       " [0, 14],\n",
       " [0, 13],\n",
       " [0, 11],\n",
       " [0, 9],\n",
       " [1, 0],\n",
       " [0, 23],\n",
       " [0, 6],\n",
       " [0, 22],\n",
       " [0, 5],\n",
       " [0, 21],\n",
       " [0, 4],\n",
       " [0, 3],\n",
       " [0, 20],\n",
       " [0, 2],\n",
       " [0, 19],\n",
       " [0, 1],\n",
       " [0, 17],\n",
       " [0, 15],\n",
       " [0, 12],\n",
       " [0, 10],\n",
       " [0, 8],\n",
       " [1, 0],\n",
       " [0, 24],\n",
       " [0, 25]]"
      ]
     },
     "execution_count": 120,
     "metadata": {},
     "output_type": "execute_result"
    }
   ],
   "source": [
    "knot_overstrands"
   ]
  },
  {
   "cell_type": "code",
   "execution_count": 121,
   "id": "2245c86a",
   "metadata": {},
   "outputs": [
    {
     "data": {
      "text/plain": [
       "[1,\n",
       " 1,\n",
       " 1,\n",
       " 1,\n",
       " 1,\n",
       " 1,\n",
       " -1,\n",
       " -1,\n",
       " 1,\n",
       " -1,\n",
       " 1,\n",
       " -1,\n",
       " 1,\n",
       " 1,\n",
       " -1,\n",
       " 1,\n",
       " -1,\n",
       " 1,\n",
       " -1,\n",
       " -1,\n",
       " -1,\n",
       " -1,\n",
       " -1,\n",
       " 1,\n",
       " -1,\n",
       " -1]"
      ]
     },
     "execution_count": 121,
     "metadata": {},
     "output_type": "execute_result"
    }
   ],
   "source": [
    "knot_signs"
   ]
  },
  {
   "cell_type": "code",
   "execution_count": 122,
   "id": "21f95a12",
   "metadata": {},
   "outputs": [
    {
     "name": "stdout",
     "output_type": "stream",
     "text": [
      "0\n"
     ]
    }
   ],
   "source": [
    "writhe=0\n",
    "for i in knot_signs:\n",
    "    writhe=writhe+i\n",
    "print(writhe)"
   ]
  },
  {
   "cell_type": "code",
   "execution_count": 124,
   "id": "dcfba2dc",
   "metadata": {},
   "outputs": [],
   "source": [
    "pb_1_overstrands=[[0,right_overstrands_rev[0]],[0,middle_overstands_1[0]]]\n",
    "pb_1_signs=[1,-1]\n",
    "    \n"
   ]
  },
  {
   "cell_type": "code",
   "execution_count": 126,
   "id": "f32d293a",
   "metadata": {},
   "outputs": [
    {
     "data": {
      "text/plain": [
       "[[0, 23], [0, 7]]"
      ]
     },
     "execution_count": 126,
     "metadata": {},
     "output_type": "execute_result"
    }
   ],
   "source": [
    "pb_1_overstrands"
   ]
  },
  {
   "cell_type": "code",
   "execution_count": 125,
   "id": "31090a76",
   "metadata": {},
   "outputs": [],
   "source": [
    "knot=Link_Component(2,knot_signs,knot_overstrands)\n",
    "pb_1=Link_Component(2,pb_1_signs,pb_1_overstrands)"
   ]
  },
  {
   "cell_type": "code",
   "execution_count": 127,
   "id": "c8a637ec",
   "metadata": {},
   "outputs": [],
   "source": [
    "diagram=Link_Diagram(2,0)\n",
    "diagram.add_component(knot)\n",
    "diagram.add_component(pb_1)"
   ]
  },
  {
   "cell_type": "code",
   "execution_count": 128,
   "id": "94eb8053",
   "metadata": {},
   "outputs": [
    {
     "name": "stdout",
     "output_type": "stream",
     "text": [
      "[        0 4060/9801]\n",
      "[4060/9801         0]\n",
      "[       0 912/3457 912/3457]\n",
      "[912/3457        0 912/3457]\n",
      "[912/3457 912/3457        0]\n",
      "[              0       2030/9801 1405300/8830701       2030/9801]\n",
      "[      2030/9801               0       2030/9801 1405300/8830701]\n",
      "[1405300/8830701       2030/9801               0       2030/9801]\n",
      "[      2030/9801 1405300/8830701       2030/9801               0]\n"
     ]
    }
   ],
   "source": [
    "#Can use any p for winding number 0\n",
    "for p in range(2,5):\n",
    "    cover=Cyclic_Cover(p,diagram)\n",
    "    lk_matrix=Matrix(QQ,p)\n",
    "\n",
    "    for i in range(p):\n",
    "        for j in range(p):\n",
    "             if i!=j:\n",
    "                lk_matrix[i,j]=cover.linking_number(1,i+1,1,j+1)\n",
    "    print(lk_matrix)"
   ]
  },
  {
   "cell_type": "code",
   "execution_count": null,
   "id": "2c313452",
   "metadata": {},
   "outputs": [],
   "source": []
  }
 ],
 "metadata": {
  "kernelspec": {
   "display_name": "SageMath 9.6",
   "language": "sage",
   "name": "sagemath-9.6"
  },
  "language_info": {
   "codemirror_mode": {
    "name": "ipython",
    "version": 3
   },
   "file_extension": ".py",
   "mimetype": "text/x-python",
   "name": "python",
   "nbconvert_exporter": "python",
   "pygments_lexer": "ipython3",
   "version": "3.10.3"
  }
 },
 "nbformat": 4,
 "nbformat_minor": 5
}
